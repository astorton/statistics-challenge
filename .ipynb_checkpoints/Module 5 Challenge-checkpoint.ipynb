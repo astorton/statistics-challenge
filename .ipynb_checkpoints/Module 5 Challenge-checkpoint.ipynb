{
 "cells": [
  {
   "cell_type": "code",
   "execution_count": 1,
   "id": "6029eb0e",
   "metadata": {},
   "outputs": [],
   "source": [
    "#Observations:\n",
    "#1.According to the scatter plot, Weight and Tumor Volume are positively correlated; telling us that weight plays a major factor in the size of a mice tumor volume\n",
    "#2.Based on the median of all four, top performing regimen's, the Capomulin group still maintained lower than average tumor sizes\n",
    "#3.The correlation coefficient is .84; telling us that there is rather strong, positive correlation between the weight and tumor volume factors\n",
    "\n",
    "\n",
    "#Import the necessary packages and dependencies\n",
    "import pandas as pd\n",
    "from pathlib import Path\n",
    "import matplotlib.pyplot as plt\n",
    "import numpy as np\n",
    "import scipy.stats as st"
   ]
  },
  {
   "cell_type": "code",
   "execution_count": 2,
   "id": "73089b9f",
   "metadata": {},
   "outputs": [
    {
     "data": {
      "text/html": [
       "<div>\n",
       "<style scoped>\n",
       "    .dataframe tbody tr th:only-of-type {\n",
       "        vertical-align: middle;\n",
       "    }\n",
       "\n",
       "    .dataframe tbody tr th {\n",
       "        vertical-align: top;\n",
       "    }\n",
       "\n",
       "    .dataframe thead th {\n",
       "        text-align: right;\n",
       "    }\n",
       "</style>\n",
       "<table border=\"1\" class=\"dataframe\">\n",
       "  <thead>\n",
       "    <tr style=\"text-align: right;\">\n",
       "      <th></th>\n",
       "      <th>Mouse ID</th>\n",
       "      <th>Timepoint</th>\n",
       "      <th>Tumor Volume (mm3)</th>\n",
       "      <th>Metastatic Sites</th>\n",
       "    </tr>\n",
       "  </thead>\n",
       "  <tbody>\n",
       "    <tr>\n",
       "      <th>0</th>\n",
       "      <td>b128</td>\n",
       "      <td>0</td>\n",
       "      <td>45.0</td>\n",
       "      <td>0</td>\n",
       "    </tr>\n",
       "    <tr>\n",
       "      <th>1</th>\n",
       "      <td>f932</td>\n",
       "      <td>0</td>\n",
       "      <td>45.0</td>\n",
       "      <td>0</td>\n",
       "    </tr>\n",
       "    <tr>\n",
       "      <th>2</th>\n",
       "      <td>g107</td>\n",
       "      <td>0</td>\n",
       "      <td>45.0</td>\n",
       "      <td>0</td>\n",
       "    </tr>\n",
       "    <tr>\n",
       "      <th>3</th>\n",
       "      <td>a457</td>\n",
       "      <td>0</td>\n",
       "      <td>45.0</td>\n",
       "      <td>0</td>\n",
       "    </tr>\n",
       "    <tr>\n",
       "      <th>4</th>\n",
       "      <td>c819</td>\n",
       "      <td>0</td>\n",
       "      <td>45.0</td>\n",
       "      <td>0</td>\n",
       "    </tr>\n",
       "  </tbody>\n",
       "</table>\n",
       "</div>"
      ],
      "text/plain": [
       "  Mouse ID  Timepoint  Tumor Volume (mm3)  Metastatic Sites\n",
       "0     b128          0                45.0                 0\n",
       "1     f932          0                45.0                 0\n",
       "2     g107          0                45.0                 0\n",
       "3     a457          0                45.0                 0\n",
       "4     c819          0                45.0                 0"
      ]
     },
     "execution_count": 2,
     "metadata": {},
     "output_type": "execute_result"
    }
   ],
   "source": [
    "#enable the notebook to read the respective CSV files\n",
    "mice_data_load = Path('Resources/data/Mouse_metadata.csv')\n",
    "study_data_load = Path('Resources/data/Study_results.csv')\n",
    "\n",
    "mice_data = pd.read_csv(mice_data_load)\n",
    "study_data = pd.read_csv(study_data_load)\n",
    "\n",
    "#validate that the imports worked successfully for each file BEFORE merging\n",
    "mice_data.head()\n",
    "study_data.head()"
   ]
  },
  {
   "cell_type": "code",
   "execution_count": 3,
   "id": "db7ee235",
   "metadata": {},
   "outputs": [
    {
     "data": {
      "text/html": [
       "<div>\n",
       "<style scoped>\n",
       "    .dataframe tbody tr th:only-of-type {\n",
       "        vertical-align: middle;\n",
       "    }\n",
       "\n",
       "    .dataframe tbody tr th {\n",
       "        vertical-align: top;\n",
       "    }\n",
       "\n",
       "    .dataframe thead th {\n",
       "        text-align: right;\n",
       "    }\n",
       "</style>\n",
       "<table border=\"1\" class=\"dataframe\">\n",
       "  <thead>\n",
       "    <tr style=\"text-align: right;\">\n",
       "      <th></th>\n",
       "      <th>Mouse ID</th>\n",
       "      <th>Drug Regimen</th>\n",
       "      <th>Sex</th>\n",
       "      <th>Age_months</th>\n",
       "      <th>Weight (g)</th>\n",
       "      <th>Timepoint</th>\n",
       "      <th>Tumor Volume (mm3)</th>\n",
       "      <th>Metastatic Sites</th>\n",
       "    </tr>\n",
       "  </thead>\n",
       "  <tbody>\n",
       "    <tr>\n",
       "      <th>0</th>\n",
       "      <td>k403</td>\n",
       "      <td>Ramicane</td>\n",
       "      <td>Male</td>\n",
       "      <td>21</td>\n",
       "      <td>16</td>\n",
       "      <td>0</td>\n",
       "      <td>45.000000</td>\n",
       "      <td>0</td>\n",
       "    </tr>\n",
       "    <tr>\n",
       "      <th>1</th>\n",
       "      <td>k403</td>\n",
       "      <td>Ramicane</td>\n",
       "      <td>Male</td>\n",
       "      <td>21</td>\n",
       "      <td>16</td>\n",
       "      <td>5</td>\n",
       "      <td>38.825898</td>\n",
       "      <td>0</td>\n",
       "    </tr>\n",
       "    <tr>\n",
       "      <th>2</th>\n",
       "      <td>k403</td>\n",
       "      <td>Ramicane</td>\n",
       "      <td>Male</td>\n",
       "      <td>21</td>\n",
       "      <td>16</td>\n",
       "      <td>10</td>\n",
       "      <td>35.014271</td>\n",
       "      <td>1</td>\n",
       "    </tr>\n",
       "    <tr>\n",
       "      <th>3</th>\n",
       "      <td>k403</td>\n",
       "      <td>Ramicane</td>\n",
       "      <td>Male</td>\n",
       "      <td>21</td>\n",
       "      <td>16</td>\n",
       "      <td>15</td>\n",
       "      <td>34.223992</td>\n",
       "      <td>1</td>\n",
       "    </tr>\n",
       "    <tr>\n",
       "      <th>4</th>\n",
       "      <td>k403</td>\n",
       "      <td>Ramicane</td>\n",
       "      <td>Male</td>\n",
       "      <td>21</td>\n",
       "      <td>16</td>\n",
       "      <td>20</td>\n",
       "      <td>32.997729</td>\n",
       "      <td>1</td>\n",
       "    </tr>\n",
       "  </tbody>\n",
       "</table>\n",
       "</div>"
      ],
      "text/plain": [
       "  Mouse ID Drug Regimen   Sex  Age_months  Weight (g)  Timepoint  \\\n",
       "0     k403     Ramicane  Male          21          16          0   \n",
       "1     k403     Ramicane  Male          21          16          5   \n",
       "2     k403     Ramicane  Male          21          16         10   \n",
       "3     k403     Ramicane  Male          21          16         15   \n",
       "4     k403     Ramicane  Male          21          16         20   \n",
       "\n",
       "   Tumor Volume (mm3)  Metastatic Sites  \n",
       "0           45.000000                 0  \n",
       "1           38.825898                 0  \n",
       "2           35.014271                 1  \n",
       "3           34.223992                 1  \n",
       "4           32.997729                 1  "
      ]
     },
     "execution_count": 3,
     "metadata": {},
     "output_type": "execute_result"
    }
   ],
   "source": [
    "#merge the csv file; using a LEFT join to 'append' the study results to each mouse.\n",
    "mice_study_data = pd.merge(mice_data,study_data,how='left',on=['Mouse ID'])\n",
    "#validate that the merging was successful before preparing any analysis\n",
    "mice_study_data.head()"
   ]
  },
  {
   "cell_type": "code",
   "execution_count": 4,
   "id": "aab18a50",
   "metadata": {},
   "outputs": [
    {
     "data": {
      "text/plain": [
       "248"
      ]
     },
     "execution_count": 4,
     "metadata": {},
     "output_type": "execute_result"
    }
   ],
   "source": [
    "#Perform necessary data quality checks up on duplicate mouse ids. Let's start with counting unique Mouse IDs\n",
    "unique_mouse_id_pre = mice_study_data['Mouse ID'].nunique()\n",
    "unique_mouse_id_pre\n",
    "\n",
    "#get a list of all records where Mouse ID and Timepoint values have a 1:M relationship.\n",
    "duplicate_timeperiod_check = mice_study_data[mice_study_data.duplicated(['Mouse ID','Timepoint'])]\n",
    "duplicate_timeperiod_check\n",
    "\n",
    "mice_study = mice_study_data[mice_study_data['Mouse ID']!='g989']\n",
    "\n",
    "mice_study\n",
    "\n",
    "#check that the unique count of  Mouse ID's has dropped by a count of 1. \n",
    "unique_mouse_id_post = mice_study['Mouse ID'].nunique()\n",
    "unique_mouse_id_post"
   ]
  },
  {
   "cell_type": "code",
   "execution_count": 5,
   "id": "4c0937e2",
   "metadata": {},
   "outputs": [
    {
     "data": {
      "text/html": [
       "<div>\n",
       "<style scoped>\n",
       "    .dataframe tbody tr th:only-of-type {\n",
       "        vertical-align: middle;\n",
       "    }\n",
       "\n",
       "    .dataframe tbody tr th {\n",
       "        vertical-align: top;\n",
       "    }\n",
       "\n",
       "    .dataframe thead th {\n",
       "        text-align: right;\n",
       "    }\n",
       "</style>\n",
       "<table border=\"1\" class=\"dataframe\">\n",
       "  <thead>\n",
       "    <tr style=\"text-align: right;\">\n",
       "      <th></th>\n",
       "      <th>Tumor Volume (mm3)</th>\n",
       "    </tr>\n",
       "    <tr>\n",
       "      <th>Drug Regimen</th>\n",
       "      <th></th>\n",
       "    </tr>\n",
       "  </thead>\n",
       "  <tbody>\n",
       "    <tr>\n",
       "      <th>Capomulin</th>\n",
       "      <td>0.329346</td>\n",
       "    </tr>\n",
       "    <tr>\n",
       "      <th>Ceftamin</th>\n",
       "      <td>0.469821</td>\n",
       "    </tr>\n",
       "    <tr>\n",
       "      <th>Infubinol</th>\n",
       "      <td>0.492236</td>\n",
       "    </tr>\n",
       "    <tr>\n",
       "      <th>Ketapril</th>\n",
       "      <td>0.603860</td>\n",
       "    </tr>\n",
       "    <tr>\n",
       "      <th>Naftisol</th>\n",
       "      <td>0.596466</td>\n",
       "    </tr>\n",
       "    <tr>\n",
       "      <th>Placebo</th>\n",
       "      <td>0.581331</td>\n",
       "    </tr>\n",
       "    <tr>\n",
       "      <th>Propriva</th>\n",
       "      <td>0.544332</td>\n",
       "    </tr>\n",
       "    <tr>\n",
       "      <th>Ramicane</th>\n",
       "      <td>0.320955</td>\n",
       "    </tr>\n",
       "    <tr>\n",
       "      <th>Stelasyn</th>\n",
       "      <td>0.573111</td>\n",
       "    </tr>\n",
       "    <tr>\n",
       "      <th>Zoniferol</th>\n",
       "      <td>0.516398</td>\n",
       "    </tr>\n",
       "  </tbody>\n",
       "</table>\n",
       "</div>"
      ],
      "text/plain": [
       "              Tumor Volume (mm3)\n",
       "Drug Regimen                    \n",
       "Capomulin               0.329346\n",
       "Ceftamin                0.469821\n",
       "Infubinol               0.492236\n",
       "Ketapril                0.603860\n",
       "Naftisol                0.596466\n",
       "Placebo                 0.581331\n",
       "Propriva                0.544332\n",
       "Ramicane                0.320955\n",
       "Stelasyn                0.573111\n",
       "Zoniferol               0.516398"
      ]
     },
     "execution_count": 5,
     "metadata": {},
     "output_type": "execute_result"
    }
   ],
   "source": [
    "#Calculuate a statitical summary dataframe with the mean, median, variance, standard deviation and sem. \n",
    "#First - group the records by regiment and then perform necessary calculations.\n",
    "\n",
    "#calculate the summary stats\n",
    "regimen_mean_calculation = pd.DataFrame(mice_study.groupby(['Drug Regimen']).mean(numeric_only=True)[\"Tumor Volume (mm3)\"])\n",
    "regimen_median_calculation = pd.DataFrame(mice_study.groupby(['Drug Regimen']).median(numeric_only=True)[\"Tumor Volume (mm3)\"])\n",
    "regimen_variance_calculation = pd.DataFrame(mice_study.groupby(['Drug Regimen']).var()[\"Tumor Volume (mm3)\"])\n",
    "regimen_std_calculation = pd.DataFrame(mice_study.groupby(['Drug Regimen']).std()[\"Tumor Volume (mm3)\"])\n",
    "regimen_sem_calculation = pd.DataFrame(mice_study.groupby(['Drug Regimen']).sem()[\"Tumor Volume (mm3)\"])\n",
    "\n",
    "regimen_sem_calculation"
   ]
  },
  {
   "cell_type": "code",
   "execution_count": 6,
   "id": "b0dc6f89",
   "metadata": {},
   "outputs": [],
   "source": [
    "#assign value of calculations to variables\n",
    "regimen_mean_values = regimen_mean_calculation['Tumor Volume (mm3)'].round(2)\n",
    "regimen_median_values = regimen_median_calculation['Tumor Volume (mm3)'].round(2)\n",
    "regimen_variance_values = regimen_variance_calculation['Tumor Volume (mm3)'].round(2)\n",
    "regimen_std_values = regimen_std_calculation['Tumor Volume (mm3)'].round(2)\n",
    "regimen_sem_values = regimen_sem_calculation['Tumor Volume (mm3)'].round(2)"
   ]
  },
  {
   "cell_type": "code",
   "execution_count": 7,
   "id": "28cdc58e",
   "metadata": {},
   "outputs": [
    {
     "data": {
      "text/html": [
       "<div>\n",
       "<style scoped>\n",
       "    .dataframe tbody tr th:only-of-type {\n",
       "        vertical-align: middle;\n",
       "    }\n",
       "\n",
       "    .dataframe tbody tr th {\n",
       "        vertical-align: top;\n",
       "    }\n",
       "\n",
       "    .dataframe thead th {\n",
       "        text-align: right;\n",
       "    }\n",
       "</style>\n",
       "<table border=\"1\" class=\"dataframe\">\n",
       "  <thead>\n",
       "    <tr style=\"text-align: right;\">\n",
       "      <th></th>\n",
       "      <th>Average Tumor Volume (mm3)</th>\n",
       "      <th>Median Tumor Volume (mm3)</th>\n",
       "      <th>Tumor Volume (mm3) - Variance</th>\n",
       "      <th>Tumor Volume (mm3) - Standard Deviation</th>\n",
       "      <th>Tumor Volume (mm3) - Standard Error of Mean</th>\n",
       "    </tr>\n",
       "    <tr>\n",
       "      <th>Drug Regimen</th>\n",
       "      <th></th>\n",
       "      <th></th>\n",
       "      <th></th>\n",
       "      <th></th>\n",
       "      <th></th>\n",
       "    </tr>\n",
       "  </thead>\n",
       "  <tbody>\n",
       "    <tr>\n",
       "      <th>Capomulin</th>\n",
       "      <td>40.68</td>\n",
       "      <td>41.56</td>\n",
       "      <td>24.95</td>\n",
       "      <td>4.99</td>\n",
       "      <td>0.33</td>\n",
       "    </tr>\n",
       "    <tr>\n",
       "      <th>Ceftamin</th>\n",
       "      <td>52.59</td>\n",
       "      <td>51.78</td>\n",
       "      <td>39.29</td>\n",
       "      <td>6.27</td>\n",
       "      <td>0.47</td>\n",
       "    </tr>\n",
       "    <tr>\n",
       "      <th>Infubinol</th>\n",
       "      <td>52.88</td>\n",
       "      <td>51.82</td>\n",
       "      <td>43.13</td>\n",
       "      <td>6.57</td>\n",
       "      <td>0.49</td>\n",
       "    </tr>\n",
       "    <tr>\n",
       "      <th>Ketapril</th>\n",
       "      <td>55.24</td>\n",
       "      <td>53.70</td>\n",
       "      <td>68.55</td>\n",
       "      <td>8.28</td>\n",
       "      <td>0.60</td>\n",
       "    </tr>\n",
       "    <tr>\n",
       "      <th>Naftisol</th>\n",
       "      <td>54.33</td>\n",
       "      <td>52.51</td>\n",
       "      <td>66.17</td>\n",
       "      <td>8.13</td>\n",
       "      <td>0.60</td>\n",
       "    </tr>\n",
       "    <tr>\n",
       "      <th>Placebo</th>\n",
       "      <td>54.03</td>\n",
       "      <td>52.29</td>\n",
       "      <td>61.17</td>\n",
       "      <td>7.82</td>\n",
       "      <td>0.58</td>\n",
       "    </tr>\n",
       "    <tr>\n",
       "      <th>Propriva</th>\n",
       "      <td>52.32</td>\n",
       "      <td>50.45</td>\n",
       "      <td>43.85</td>\n",
       "      <td>6.62</td>\n",
       "      <td>0.54</td>\n",
       "    </tr>\n",
       "    <tr>\n",
       "      <th>Ramicane</th>\n",
       "      <td>40.22</td>\n",
       "      <td>40.67</td>\n",
       "      <td>23.49</td>\n",
       "      <td>4.85</td>\n",
       "      <td>0.32</td>\n",
       "    </tr>\n",
       "    <tr>\n",
       "      <th>Stelasyn</th>\n",
       "      <td>54.23</td>\n",
       "      <td>52.43</td>\n",
       "      <td>59.45</td>\n",
       "      <td>7.71</td>\n",
       "      <td>0.57</td>\n",
       "    </tr>\n",
       "    <tr>\n",
       "      <th>Zoniferol</th>\n",
       "      <td>53.24</td>\n",
       "      <td>51.82</td>\n",
       "      <td>48.53</td>\n",
       "      <td>6.97</td>\n",
       "      <td>0.52</td>\n",
       "    </tr>\n",
       "  </tbody>\n",
       "</table>\n",
       "</div>"
      ],
      "text/plain": [
       "              Average Tumor Volume (mm3)  Median Tumor Volume (mm3)  \\\n",
       "Drug Regimen                                                          \n",
       "Capomulin                          40.68                      41.56   \n",
       "Ceftamin                           52.59                      51.78   \n",
       "Infubinol                          52.88                      51.82   \n",
       "Ketapril                           55.24                      53.70   \n",
       "Naftisol                           54.33                      52.51   \n",
       "Placebo                            54.03                      52.29   \n",
       "Propriva                           52.32                      50.45   \n",
       "Ramicane                           40.22                      40.67   \n",
       "Stelasyn                           54.23                      52.43   \n",
       "Zoniferol                          53.24                      51.82   \n",
       "\n",
       "              Tumor Volume (mm3) - Variance  \\\n",
       "Drug Regimen                                  \n",
       "Capomulin                             24.95   \n",
       "Ceftamin                              39.29   \n",
       "Infubinol                             43.13   \n",
       "Ketapril                              68.55   \n",
       "Naftisol                              66.17   \n",
       "Placebo                               61.17   \n",
       "Propriva                              43.85   \n",
       "Ramicane                              23.49   \n",
       "Stelasyn                              59.45   \n",
       "Zoniferol                             48.53   \n",
       "\n",
       "              Tumor Volume (mm3) - Standard Deviation  \\\n",
       "Drug Regimen                                            \n",
       "Capomulin                                        4.99   \n",
       "Ceftamin                                         6.27   \n",
       "Infubinol                                        6.57   \n",
       "Ketapril                                         8.28   \n",
       "Naftisol                                         8.13   \n",
       "Placebo                                          7.82   \n",
       "Propriva                                         6.62   \n",
       "Ramicane                                         4.85   \n",
       "Stelasyn                                         7.71   \n",
       "Zoniferol                                        6.97   \n",
       "\n",
       "              Tumor Volume (mm3) - Standard Error of Mean  \n",
       "Drug Regimen                                               \n",
       "Capomulin                                            0.33  \n",
       "Ceftamin                                             0.47  \n",
       "Infubinol                                            0.49  \n",
       "Ketapril                                             0.60  \n",
       "Naftisol                                             0.60  \n",
       "Placebo                                              0.58  \n",
       "Propriva                                             0.54  \n",
       "Ramicane                                             0.32  \n",
       "Stelasyn                                             0.57  \n",
       "Zoniferol                                            0.52  "
      ]
     },
     "execution_count": 7,
     "metadata": {},
     "output_type": "execute_result"
    }
   ],
   "source": [
    "#convert the series into dataframes via concatination to produce the stats summary and display accordingly\n",
    "\n",
    "drug_regiment_statistical_summary = pd.concat([regimen_mean_values,regimen_median_values,regimen_variance_values,regimen_std_values,regimen_sem_values],axis=1,keys=[\"Average Tumor Volume (mm3)\",\"Median Tumor Volume (mm3)\",\"Tumor Volume (mm3) - Variance\", \"Tumor Volume (mm3) - Standard Deviation\",\"Tumor Volume (mm3) - Standard Error of Mean\"])\n",
    "drug_regiment_statistical_summary"
   ]
  },
  {
   "cell_type": "code",
   "execution_count": 8,
   "id": "238fdbd0",
   "metadata": {},
   "outputs": [
    {
     "data": {
      "text/plain": [
       "Drug Regimen\n",
       "Capomulin    230\n",
       "Ceftamin     178\n",
       "Infubinol    178\n",
       "Ketapril     188\n",
       "Naftisol     186\n",
       "Placebo      181\n",
       "Propriva     148\n",
       "Ramicane     228\n",
       "Stelasyn     181\n",
       "Zoniferol    182\n",
       "Name: Timepoint, dtype: int64"
      ]
     },
     "execution_count": 8,
     "metadata": {},
     "output_type": "execute_result"
    }
   ],
   "source": [
    "#Generate bar chart displaying the total number of time points for all mice tested for each drug using DataFrame.plot() method\n",
    "\n",
    "#groupby the data set on drug regimen for values\n",
    "\n",
    "mice_study_bar_values = mice_study.groupby('Drug Regimen')['Timepoint'].count()\n",
    "mice_study_bar_values"
   ]
  },
  {
   "cell_type": "code",
   "execution_count": 9,
   "id": "b6f7d2f1",
   "metadata": {},
   "outputs": [
    {
     "data": {
      "text/plain": [
       "<matplotlib.axes._subplots.AxesSubplot at 0x183805d8088>"
      ]
     },
     "execution_count": 9,
     "metadata": {},
     "output_type": "execute_result"
    },
    {
     "data": {
      "image/png": "[encoded data removed]",
      "text/plain": [
       "<Figure size 504x504 with 1 Axes>"
      ]
     },
     "metadata": {
      "needs_background": "light"
     },
     "output_type": "display_data"
    }
   ],
   "source": [
    "#display bar chart 1 - using plot() method\n",
    "mice_study_bar_1 = mice_study_bar_values.plot(kind=\"bar\",title='Timepoint count, by Regimen',y='Timepoint Count',figsize=(7,7))    \n",
    "mice_study_bar_1"
   ]
  },
  {
   "cell_type": "code",
   "execution_count": 10,
   "id": "929fb134",
   "metadata": {},
   "outputs": [],
   "source": [
    "#display bar chart 2 - using matplotlib method\n",
    "#define x and y axis variables\n",
    "\n",
    "mice_study_bar_data_indicies = mice_study[\"Drug Regimen\"].unique()\n",
    "mice_study_bar_data_indicies.sort()\n",
    "mice_study_bar_data_indicies.tolist()\n",
    "mice_study_bar_data_indicies\n",
    "#mice_study_bar_data_indicies\n",
    "\n",
    "x = mice_study_bar_data_indicies\n",
    "y = mice_study_bar_values"
   ]
  },
  {
   "cell_type": "code",
   "execution_count": 11,
   "id": "e5e59924",
   "metadata": {},
   "outputs": [
    {
     "data": {
      "image/png": "[encoded data removed]",
      "text/plain": [
       "<Figure size 432x288 with 1 Axes>"
      ]
     },
     "metadata": {
      "needs_background": "light"
     },
     "output_type": "display_data"
    }
   ],
   "source": [
    "#display bar chart 2\n",
    "\n",
    "plt.bar(x,y)\n",
    "plt.xlabel(\"Drug Regimen\")\n",
    "plt.ylabel(\"Timepoint Count\")\n",
    "plt.xticks(rotation = 45) \n",
    "plt.show()"
   ]
  },
  {
   "cell_type": "code",
   "execution_count": 12,
   "id": "dfb3056e",
   "metadata": {},
   "outputs": [
    {
     "data": {
      "text/plain": [
       "Sex\n",
       "Female    922\n",
       "Male      958\n",
       "dtype: int64"
      ]
     },
     "execution_count": 12,
     "metadata": {},
     "output_type": "execute_result"
    }
   ],
   "source": [
    "#Generate series values pie chart displaying the distribution of female and male mice\n",
    "\n",
    "mice_study_pie_values = mice_study.groupby(['Sex']).size()\n",
    "\n",
    "mice_study_pie_values"
   ]
  },
  {
   "cell_type": "code",
   "execution_count": 13,
   "id": "b9c2c6fc",
   "metadata": {},
   "outputs": [
    {
     "data": {
      "text/plain": [
       "<matplotlib.axes._subplots.AxesSubplot at 0x18382a91ec8>"
      ]
     },
     "execution_count": 13,
     "metadata": {},
     "output_type": "execute_result"
    },
    {
     "data": {
      "image/png": "[encoded data removed]",
      "text/plain": [
       "<Figure size 432x288 with 1 Axes>"
      ]
     },
     "metadata": {},
     "output_type": "display_data"
    }
   ],
   "source": [
    "\n",
    "#Generate pie chart 1 - using Pandas Plot method\n",
    "\n",
    "mice_study_pie_values.plot(kind='pie',title='Mice Sex Breakdown',autopct='%1.1f%%', radius=2.2, shadow=False)"
   ]
  },
  {
   "cell_type": "code",
   "execution_count": 14,
   "id": "7e157075",
   "metadata": {},
   "outputs": [
    {
     "data": {
      "image/png": "[encoded data removed]",
      "text/plain": [
       "<Figure size 432x288 with 1 Axes>"
      ]
     },
     "metadata": {},
     "output_type": "display_data"
    }
   ],
   "source": [
    "#Generate pie chart displaying the distribution of female and male mice - using Matplotlip PyPlot mehthod\n",
    "y = mice_study_pie_values\n",
    "labels = [\"Female\",\"Male\"]\n",
    "plt.pie(y,labels=labels, autopct=\"%.2f\", radius=2.2)\n",
    "plt.ylabel(\"Mice Sex Breakdown\")\n",
    "plt.show()"
   ]
  },
  {
   "cell_type": "code",
   "execution_count": 15,
   "id": "79cd5d0f",
   "metadata": {},
   "outputs": [
    {
     "data": {
      "text/plain": [
       "[67.97341878,\n",
       " 65.52574285,\n",
       " 62.99935619,\n",
       " 45.46667714,\n",
       " 45.0,\n",
       " 45.0,\n",
       " 57.03186187,\n",
       " 46.91089166,\n",
       " 66.08306589,\n",
       " 45.65133131,\n",
       " 45.0,\n",
       " 56.05774909,\n",
       " 45.0,\n",
       " 55.74282869,\n",
       " 72.2267309,\n",
       " 45.0,\n",
       " 45.72227949,\n",
       " 46.94094512,\n",
       " 60.96971133,\n",
       " 45.0,\n",
       " 62.43540402,\n",
       " 46.40908385,\n",
       " 60.91876652,\n",
       " 48.72207785,\n",
       " 45.0,\n",
       " 46.30400254,\n",
       " 46.80922469,\n",
       " 45.85153062,\n",
       " 47.784681799999994,\n",
       " 45.0,\n",
       " 45.0,\n",
       " 67.28962147,\n",
       " 47.68596303,\n",
       " 45.59568527,\n",
       " 48.15820939,\n",
       " 46.408361299999996,\n",
       " 61.84902336,\n",
       " 45.25253427,\n",
       " 46.34383237,\n",
       " 68.92318457,\n",
       " 45.0,\n",
       " 66.19691151,\n",
       " 62.11727887,\n",
       " 67.74866174,\n",
       " 57.91838132,\n",
       " 48.07045162,\n",
       " 46.78453491,\n",
       " 59.85195552,\n",
       " 64.29983003,\n",
       " 46.15473721,\n",
       " 45.0,\n",
       " 45.0,\n",
       " 47.01036401,\n",
       " 46.414517700000005,\n",
       " 45.52187471,\n",
       " 60.16518046,\n",
       " 59.74190064,\n",
       " 55.62942846,\n",
       " 45.69933088,\n",
       " 61.43389223,\n",
       " 54.65654872,\n",
       " 64.19234114,\n",
       " 45.76611104,\n",
       " 46.58543347,\n",
       " 46.53920617,\n",
       " 45.78174579,\n",
       " 45.62580225,\n",
       " 45.56821083,\n",
       " 47.37342325,\n",
       " 55.65068132,\n",
       " 45.0,\n",
       " 45.0,\n",
       " 45.0,\n",
       " 46.74900552,\n",
       " 45.0,\n",
       " 52.92534846,\n",
       " 45.0,\n",
       " 47.62281636,\n",
       " 47.21219992,\n",
       " 46.25011212,\n",
       " 54.04860769,\n",
       " 51.54243058,\n",
       " 45.70443431,\n",
       " 45.0,\n",
       " 67.52748237,\n",
       " 50.00513807,\n",
       " 58.26844248,\n",
       " 45.0,\n",
       " 45.89372032,\n",
       " 45.0,\n",
       " 45.47375302,\n",
       " 64.63494887,\n",
       " 61.38666032,\n",
       " 67.68556862,\n",
       " 46.37809248,\n",
       " 68.59474498,\n",
       " 45.0,\n",
       " 64.72983655,\n",
       " 45.0,\n",
       " 62.75445141]"
      ]
     },
     "execution_count": 15,
     "metadata": {},
     "output_type": "execute_result"
    }
   ],
   "source": [
    "#Calculate the final tumor volume for each mouse across four select regimens. \n",
    "\n",
    "top_regimens = [\"Capomulin\", \"Ramicane\", \"Infubinol\", \"Ceftamin\"]\n",
    "final_tumor_list = []\n",
    "\n",
    "top_regimens_data=mice_study[mice_study[\"Drug Regimen\"].isin(top_regimens)]\n",
    "\n",
    "final_timepoint_list = pd.DataFrame(mice_study.groupby(['Mouse ID'])[\"Timepoint\"].max())\n",
    "\n",
    "final_tumor_data_check = pd.DataFrame(top_regimens_data.groupby(['Mouse ID'])[\"Tumor Volume (mm3)\"].max())\n",
    "final_tumor_data_check.reset_index()\n",
    "final_tumor_series=final_tumor_data_check[\"Tumor Volume (mm3)\"].values.tolist()\n",
    "final_tumor_series\n",
    "\n"
   ]
  },
  {
   "cell_type": "code",
   "execution_count": 16,
   "id": "281b63bb",
   "metadata": {},
   "outputs": [
    {
     "data": {
      "text/html": [
       "<div>\n",
       "<style scoped>\n",
       "    .dataframe tbody tr th:only-of-type {\n",
       "        vertical-align: middle;\n",
       "    }\n",
       "\n",
       "    .dataframe tbody tr th {\n",
       "        vertical-align: top;\n",
       "    }\n",
       "\n",
       "    .dataframe thead th {\n",
       "        text-align: right;\n",
       "    }\n",
       "</style>\n",
       "<table border=\"1\" class=\"dataframe\">\n",
       "  <thead>\n",
       "    <tr style=\"text-align: right;\">\n",
       "      <th></th>\n",
       "      <th>Mouse ID</th>\n",
       "      <th>Drug Regimen</th>\n",
       "      <th>Sex</th>\n",
       "      <th>Age_months</th>\n",
       "      <th>Weight (g)</th>\n",
       "      <th>Timepoint_x</th>\n",
       "      <th>Tumor Volume (mm3)</th>\n",
       "      <th>Metastatic Sites</th>\n",
       "      <th>Greatest Timepoint</th>\n",
       "    </tr>\n",
       "  </thead>\n",
       "  <tbody>\n",
       "    <tr>\n",
       "      <th>0</th>\n",
       "      <td>k403</td>\n",
       "      <td>Ramicane</td>\n",
       "      <td>Male</td>\n",
       "      <td>21</td>\n",
       "      <td>16</td>\n",
       "      <td>0</td>\n",
       "      <td>45.000000</td>\n",
       "      <td>0</td>\n",
       "      <td>45</td>\n",
       "    </tr>\n",
       "    <tr>\n",
       "      <th>1</th>\n",
       "      <td>k403</td>\n",
       "      <td>Ramicane</td>\n",
       "      <td>Male</td>\n",
       "      <td>21</td>\n",
       "      <td>16</td>\n",
       "      <td>5</td>\n",
       "      <td>38.825898</td>\n",
       "      <td>0</td>\n",
       "      <td>45</td>\n",
       "    </tr>\n",
       "    <tr>\n",
       "      <th>2</th>\n",
       "      <td>k403</td>\n",
       "      <td>Ramicane</td>\n",
       "      <td>Male</td>\n",
       "      <td>21</td>\n",
       "      <td>16</td>\n",
       "      <td>10</td>\n",
       "      <td>35.014271</td>\n",
       "      <td>1</td>\n",
       "      <td>45</td>\n",
       "    </tr>\n",
       "    <tr>\n",
       "      <th>3</th>\n",
       "      <td>k403</td>\n",
       "      <td>Ramicane</td>\n",
       "      <td>Male</td>\n",
       "      <td>21</td>\n",
       "      <td>16</td>\n",
       "      <td>15</td>\n",
       "      <td>34.223992</td>\n",
       "      <td>1</td>\n",
       "      <td>45</td>\n",
       "    </tr>\n",
       "    <tr>\n",
       "      <th>4</th>\n",
       "      <td>k403</td>\n",
       "      <td>Ramicane</td>\n",
       "      <td>Male</td>\n",
       "      <td>21</td>\n",
       "      <td>16</td>\n",
       "      <td>20</td>\n",
       "      <td>32.997729</td>\n",
       "      <td>1</td>\n",
       "      <td>45</td>\n",
       "    </tr>\n",
       "    <tr>\n",
       "      <th>...</th>\n",
       "      <td>...</td>\n",
       "      <td>...</td>\n",
       "      <td>...</td>\n",
       "      <td>...</td>\n",
       "      <td>...</td>\n",
       "      <td>...</td>\n",
       "      <td>...</td>\n",
       "      <td>...</td>\n",
       "      <td>...</td>\n",
       "    </tr>\n",
       "    <tr>\n",
       "      <th>1875</th>\n",
       "      <td>z969</td>\n",
       "      <td>Naftisol</td>\n",
       "      <td>Male</td>\n",
       "      <td>9</td>\n",
       "      <td>30</td>\n",
       "      <td>25</td>\n",
       "      <td>63.145652</td>\n",
       "      <td>2</td>\n",
       "      <td>45</td>\n",
       "    </tr>\n",
       "    <tr>\n",
       "      <th>1876</th>\n",
       "      <td>z969</td>\n",
       "      <td>Naftisol</td>\n",
       "      <td>Male</td>\n",
       "      <td>9</td>\n",
       "      <td>30</td>\n",
       "      <td>30</td>\n",
       "      <td>65.841013</td>\n",
       "      <td>3</td>\n",
       "      <td>45</td>\n",
       "    </tr>\n",
       "    <tr>\n",
       "      <th>1877</th>\n",
       "      <td>z969</td>\n",
       "      <td>Naftisol</td>\n",
       "      <td>Male</td>\n",
       "      <td>9</td>\n",
       "      <td>30</td>\n",
       "      <td>35</td>\n",
       "      <td>69.176246</td>\n",
       "      <td>4</td>\n",
       "      <td>45</td>\n",
       "    </tr>\n",
       "    <tr>\n",
       "      <th>1878</th>\n",
       "      <td>z969</td>\n",
       "      <td>Naftisol</td>\n",
       "      <td>Male</td>\n",
       "      <td>9</td>\n",
       "      <td>30</td>\n",
       "      <td>40</td>\n",
       "      <td>70.314904</td>\n",
       "      <td>4</td>\n",
       "      <td>45</td>\n",
       "    </tr>\n",
       "    <tr>\n",
       "      <th>1879</th>\n",
       "      <td>z969</td>\n",
       "      <td>Naftisol</td>\n",
       "      <td>Male</td>\n",
       "      <td>9</td>\n",
       "      <td>30</td>\n",
       "      <td>45</td>\n",
       "      <td>73.867845</td>\n",
       "      <td>4</td>\n",
       "      <td>45</td>\n",
       "    </tr>\n",
       "  </tbody>\n",
       "</table>\n",
       "<p>1880 rows × 9 columns</p>\n",
       "</div>"
      ],
      "text/plain": [
       "     Mouse ID Drug Regimen   Sex  Age_months  Weight (g)  Timepoint_x  \\\n",
       "0        k403     Ramicane  Male          21          16            0   \n",
       "1        k403     Ramicane  Male          21          16            5   \n",
       "2        k403     Ramicane  Male          21          16           10   \n",
       "3        k403     Ramicane  Male          21          16           15   \n",
       "4        k403     Ramicane  Male          21          16           20   \n",
       "...       ...          ...   ...         ...         ...          ...   \n",
       "1875     z969     Naftisol  Male           9          30           25   \n",
       "1876     z969     Naftisol  Male           9          30           30   \n",
       "1877     z969     Naftisol  Male           9          30           35   \n",
       "1878     z969     Naftisol  Male           9          30           40   \n",
       "1879     z969     Naftisol  Male           9          30           45   \n",
       "\n",
       "      Tumor Volume (mm3)  Metastatic Sites  Greatest Timepoint  \n",
       "0              45.000000                 0                  45  \n",
       "1              38.825898                 0                  45  \n",
       "2              35.014271                 1                  45  \n",
       "3              34.223992                 1                  45  \n",
       "4              32.997729                 1                  45  \n",
       "...                  ...               ...                 ...  \n",
       "1875           63.145652                 2                  45  \n",
       "1876           65.841013                 3                  45  \n",
       "1877           69.176246                 4                  45  \n",
       "1878           70.314904                 4                  45  \n",
       "1879           73.867845                 4                  45  \n",
       "\n",
       "[1880 rows x 9 columns]"
      ]
     },
     "execution_count": 16,
     "metadata": {},
     "output_type": "execute_result"
    }
   ],
   "source": [
    "#merge the grouped tumor volume dataframe with the mice_study_data\n",
    "merged_mice_study_data = pd.merge(mice_study,final_timepoint_list,how='left',on=['Mouse ID'])\n",
    "merged_mice_study_data.rename(columns = {'Timepoint_y':'Greatest Timepoint'}, inplace = True)\n",
    "merged_mice_study_data"
   ]
  },
  {
   "cell_type": "code",
   "execution_count": 17,
   "id": "154c8d5a",
   "metadata": {},
   "outputs": [
    {
     "data": {
      "text/plain": [
       "[10      45\n",
       " 11      45\n",
       " 12      45\n",
       " 13      45\n",
       " 14      45\n",
       "         ..\n",
       " 440     45\n",
       " 1439    15\n",
       " 1440    15\n",
       " 1441    15\n",
       " 1442    15\n",
       " Name: Greatest Timepoint, Length: 230, dtype: int64,\n",
       " 0      45\n",
       " 1      45\n",
       " 2      45\n",
       " 3      45\n",
       " 4      45\n",
       "        ..\n",
       " 449     5\n",
       " 450    15\n",
       " 451    15\n",
       " 452    15\n",
       " 453    15\n",
       " Name: Greatest Timepoint, Length: 228, dtype: int64,\n",
       " 454     45\n",
       " 455     45\n",
       " 456     45\n",
       " 457     45\n",
       " 458     45\n",
       "         ..\n",
       " 1855    45\n",
       " 1856    45\n",
       " 1857    45\n",
       " 1858    45\n",
       " 1859    45\n",
       " Name: Greatest Timepoint, Length: 178, dtype: int64,\n",
       " 484     45\n",
       " 485     45\n",
       " 486     45\n",
       " 487     45\n",
       " 488     45\n",
       "         ..\n",
       " 1838    45\n",
       " 1839    45\n",
       " 1840    45\n",
       " 1841    45\n",
       " 1842    45\n",
       " Name: Greatest Timepoint, Length: 178, dtype: int64]"
      ]
     },
     "execution_count": 17,
     "metadata": {},
     "output_type": "execute_result"
    }
   ],
   "source": [
    "for regimen in top_regimens:\n",
    "    volume = merged_mice_study_data.loc[(merged_mice_study_data[\"Drug Regimen\"]==regimen) & (merged_mice_study_data[\"Tumor Volume (mm3)\"].notna()), \"Greatest Timepoint\"]\n",
    "    final_tumor_list.append(volume)\n",
    "final_tumor_list"
   ]
  },
  {
   "cell_type": "code",
   "execution_count": 18,
   "id": "472f0338",
   "metadata": {},
   "outputs": [
    {
     "data": {
      "image/png": "[encoded data removed]",
      "text/plain": [
       "<Figure size 432x288 with 1 Axes>"
      ]
     },
     "metadata": {
      "needs_background": "light"
     },
     "output_type": "display_data"
    }
   ],
   "source": [
    "#generate a boxplot to display the distribution of greatest tumor volume, per mouce - using the matplotlib method\n",
    "fig, ax = plt.subplots()\n",
    "ax.set_title('Greatest Tumor Volume Hits')\n",
    "ax.set_ylabel('Volume')\n",
    "plt.boxplot(final_tumor_series)\n",
    "plt.show()"
   ]
  },
  {
   "cell_type": "code",
   "execution_count": null,
   "id": "f25f468e",
   "metadata": {},
   "outputs": [],
   "source": [
    "mice_study[(mice_study[\"Drug Regimen\" == \"Capomulin\") & (mice_study)]]"
   ]
  },
  {
   "cell_type": "code",
   "execution_count": 19,
   "id": "192ee4bb",
   "metadata": {},
   "outputs": [
    {
     "data": {
      "text/plain": [
       "<pandas.core.groupby.generic.DataFrameGroupBy object at 0x0000018382B38248>"
      ]
     },
     "execution_count": 19,
     "metadata": {},
     "output_type": "execute_result"
    },
    {
     "data": {
      "image/png": "[encoded data removed]",
      "text/plain": [
       "<Figure size 432x288 with 1 Axes>"
      ]
     },
     "metadata": {
      "needs_background": "light"
     },
     "output_type": "display_data"
    }
   ],
   "source": [
    "#Generate a lineplot to display the tumor volume vs. time point for one mouse treated with Capomulin\n",
    "capomulin_filter = [\"Capomulin\"]\n",
    "plot_line_filter = [\"s185\"]\n",
    "tumor_time_capomulin_line_data=mice_study[mice_study[\"Drug Regimen\"].isin(capomulin_filter)]\n",
    "tumor_line_data=tumaor_time_capomulin_line_data[tumor_time_capomulin_line_data[\"Mouse ID\"].isin(plot_line_filter)]\n",
    "tumor_line = tumor_line_data.groupby(\"Mouse ID\")[[\"Timepoint\",\"Tumor Volume (mm3)\"]]\n",
    "\n",
    "\n",
    "#tumor_time_capomulin_line_data\n",
    "#tumor_time_capomulin_viz = tumor_time_capomulin_line.loc[(tumor_time_capomulin_line[\"Mouse ID\"])] == \"s185\"\n",
    "tumor_plot_line = tumor_line.plot.line()\n",
    "tumor_line"
   ]
  },
  {
   "cell_type": "code",
   "execution_count": 20,
   "id": "b18d21d2",
   "metadata": {},
   "outputs": [
    {
     "data": {
      "image/png": "[encoded data removed]",
      "text/plain": [
       "<Figure size 432x288 with 1 Axes>"
      ]
     },
     "metadata": {
      "needs_background": "light"
     },
     "output_type": "display_data"
    }
   ],
   "source": [
    "#Generate a scatter plot that shows average tumor volume vs. mouse weight for the Capomulin Treatment\n",
    "\n",
    "#1 - generate average tumor volume and store in a list\n",
    "average_tumor_volume = pd.DataFrame(tumor_time_capomulin_line_data.groupby(['Mouse ID'])[\"Tumor Volume (mm3)\"].mean())\n",
    "average_tumor_volume\n",
    "#2 - generate list of weight\n",
    "mice_weight = pd.DataFrame(tumor_time_capomulin_line_data.groupby(['Mouse ID'])[\"Weight (g)\"].mean())\n",
    "mice_weight\n",
    "\n",
    "#3 - Merge dataframes\n",
    "tumor_weight_scatter= pd.merge(average_tumor_volume,mice_weight,how='left',on=['Mouse ID'])\n",
    "tumor_weight_scatter\n",
    "#4 - generate scatter plot\n",
    "#tumor_weight_scatter.plot.scatter(\"Weight (g)\",\"Tumor Volume (mm3)\")\n",
    "plt.scatter(tumor_weight_scatter[\"Weight (g)\"],tumor_weight_scatter[\"Tumor Volume (mm3)\"])\n",
    "plt.xlabel(\"Weight (g)\")\n",
    "plt.ylabel(\"Tumor Volume (mm3)\")\n",
    "plt.show()"
   ]
  },
  {
   "cell_type": "code",
   "execution_count": 21,
   "id": "4920570a",
   "metadata": {},
   "outputs": [
    {
     "name": "stdout",
     "output_type": "stream",
     "text": [
      "The correlation between weight and average tumor volume is: 0.84\n"
     ]
    }
   ],
   "source": [
    "#Calculate the correlation coefficient between \n",
    "#mouse weight and average tumor volume for the Capomulin treatment.\n",
    "\n",
    "weight = tumor_weight_scatter[\"Weight (g)\"]\n",
    "average_volume = tumor_weight_scatter[\"Tumor Volume (mm3)\"]\n",
    "correlation = st.pearsonr(weight,average_volume)\n",
    "\n",
    "print(f\"The correlation between weight and average tumor volume is: {round(correlation[0],2)}\")"
   ]
  },
  {
   "cell_type": "code",
   "execution_count": 22,
   "id": "c32437dd",
   "metadata": {},
   "outputs": [],
   "source": [
    "#Calculate the linear regression model between \n",
    "#mouse weight and average tumor volume for the Capomulin treatment.\n",
    "\n",
    "p_slope, p_int, p_r, p_p, p_std_err = st.linregress(weight,average_volume)\n",
    "p_fit = p_slope * weight + p_int"
   ]
  },
  {
   "cell_type": "code",
   "execution_count": 23,
   "id": "d0b9c16f",
   "metadata": {},
   "outputs": [
    {
     "data": {
      "image/png": "[encoded data removed]",
      "text/plain": [
       "<Figure size 432x288 with 1 Axes>"
      ]
     },
     "metadata": {
      "needs_background": "light"
     },
     "output_type": "display_data"
    }
   ],
   "source": [
    "#Plot the linear regression model on top of the previous scatter plot.\n",
    "plt.plot(weight,p_fit,\"--\")\n",
    "plt.scatter(tumor_weight_scatter[\"Weight (g)\"],tumor_weight_scatter[\"Tumor Volume (mm3)\"])\n",
    "plt.xlabel(\"Weight (g)\")\n",
    "plt.ylabel(\"Tumor Volume (mm3)\")\n",
    "plt.show()"
   ]
  }
 ],
 "metadata": {
  "kernelspec": {
   "display_name": "PythonData",
   "language": "python",
   "name": "pythondata"
  },
  "language_info": {
   "codemirror_mode": {
    "name": "ipython",
    "version": 3
   },
   "file_extension": ".py",
   "mimetype": "text/x-python",
   "name": "python",
   "nbconvert_exporter": "python",
   "pygments_lexer": "ipython3",
   "version": "3.7.7"
  }
 },
 "nbformat": 4,
 "nbformat_minor": 5
}
